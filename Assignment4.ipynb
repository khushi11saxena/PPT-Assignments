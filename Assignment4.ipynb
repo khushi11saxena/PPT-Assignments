{
 "cells": [
  {
   "attachments": {},
   "cell_type": "markdown",
   "metadata": {},
   "source": [
    "Question 1\n",
    "\n",
    "Given three integer arrays arr1, arr2 and arr3 sorted in strictly increasing order, return a sorted array of only the integers that appeared in all three arrays.\n",
    "\n",
    "Algorithm:\n",
    "1. initialize three pointers i,j & k to 0 representing the current indices of arr1,arr2 & arr3.\n",
    "2. initialize an empty list result to store the common elements\n",
    "3. repeat the following steps while i,j & k are within the bounds of their respective arrays\n",
    "a) if arr1[i],arr2[j] & arr3[k] are all equal add arr1[i] to result and increment all the three pointers i,j & k by 1\n",
    "b) if arr1[i] is smaller than arr2[j] increment i by 1\n",
    "c) if arr2[j] is smaller than arr3[k] increment j by 1\n",
    "d) if none of the condiition met increment k by 1\n",
    "4. return the result as the sorted array of common elements\n",
    "Time Complexity - O(n) - where n is the length of the array\n",
    "Space Complexity- O(m) - where m is the number of common elements"
   ]
  },
  {
   "cell_type": "code",
   "execution_count": 1,
   "metadata": {},
   "outputs": [
    {
     "data": {
      "text/plain": [
       "[1, 5]"
      ]
     },
     "execution_count": 1,
     "metadata": {},
     "output_type": "execute_result"
    }
   ],
   "source": [
    "def intersection_of_three_arrays(arr1,arr2,arr3):\n",
    "    result=[]\n",
    "    i=j=k=0\n",
    "    \n",
    "    while i<len(arr1) and j<len(arr2) and k<len(arr3):\n",
    "        if arr1[i]==arr2[j]==arr3[k]:\n",
    "            result.append(arr1[i])\n",
    "            \n",
    "            i+=1\n",
    "            j+=1\n",
    "            k+=1\n",
    "            \n",
    "        elif arr1[i]<arr2[j]:\n",
    "            i+=1\n",
    "        elif arr2[j]<arr3[k]:\n",
    "            j+=1\n",
    "        else:\n",
    "            k+=1\n",
    "    return result\n",
    "intersection_of_three_arrays([1,2,3,4,5],[1,2,5,7,9],[1,3,4,5,8])"
   ]
  },
  {
   "cell_type": "code",
   "execution_count": 2,
   "metadata": {},
   "outputs": [
    {
     "data": {
      "text/plain": [
       "[1, 5]"
      ]
     },
     "execution_count": 2,
     "metadata": {},
     "output_type": "execute_result"
    }
   ],
   "source": [
    "intersection_of_three_arrays([1,2,3,4,5],[1,2,5,7,9],[1,3,4,5,8])"
   ]
  },
  {
   "attachments": {},
   "cell_type": "markdown",
   "metadata": {},
   "source": [
    "Question 2 Given two 0-indexed integer arrays nums1 and nums2, return a list answer of size 2 where: answer[0] is a list of all distinct integers in nums1 which are not present in nums2. answer[1] is a list of all distinct integers in nums2 which are not present in nums1. Note that the integers in the lists may be returned in any order.\n",
    "\n",
    "Algorithm:\n",
    "1.Convert nums1 and nums2 into sets to eliminate duplicate elements, and store them in set1 and set2, respectively.\n",
    "2. Find the distinct integers in nums1 that are not present in nums2:\n",
    "a) Perform set subtraction by calculating set1 - set2.\n",
    "b) Convert the resulting set back into a list and store it in distinct_nums1.\n",
    "3. Find the distinct integers in nums2 that are not present in nums1:\n",
    "a) Perform set subtraction by calculating set2 - set1.\n",
    "b) Convert the resulting set back into a list and store it in distinct_nums2.\n",
    "4. Return the list [distinct_nums1, distinct_nums2] as the result.\n",
    "Time Complexity: O(n1+n2)\n",
    "Space Complexity:O(n1+n2)"
   ]
  },
  {
   "cell_type": "code",
   "execution_count": 3,
   "metadata": {},
   "outputs": [
    {
     "data": {
      "text/plain": [
       "[[1, 3], [4, 6]]"
      ]
     },
     "execution_count": 3,
     "metadata": {},
     "output_type": "execute_result"
    }
   ],
   "source": [
    "def find_missing_numbers(nums1, nums2):\n",
    "    set1 = set(nums1)\n",
    "    set2 = set(nums2)\n",
    "\n",
    "    distinct_nums1 = list(set1 - set2)\n",
    "    distinct_nums2 = list(set2 - set1)\n",
    "\n",
    "    return [distinct_nums1, distinct_nums2]\n",
    "find_missing_numbers([1,2,3],[2,4,6])"
   ]
  },
  {
   "attachments": {},
   "cell_type": "markdown",
   "metadata": {},
   "source": [
    "Question 3 Given a 2D integer array matrix, return the transpose of matrix. The transpose of a matrix is the matrix flipped over its main diagonal, switching the matrix's row and column indices.\n",
    "\n",
    "Algorithm:\n",
    "1.Initialize variables rows and cols to store the number of rows and columns in the matrix, respectively.\n",
    "2.Create a new matrix transpose_matrix with dimensions cols by rows (swapping the dimensions of the original matrix).\n",
    "3.Iterate through each element in the original matrix using two nested loops with indices i and j:\n",
    "Assign the value of matrix[i][j] to transpose_matrix[j][i]. This swaps the row and column indices, transposing the element to the correct position in the transposed matrix.\n",
    "4. Return transpose_matrix as the transposed matrix.\n",
    "\n",
    "\n",
    "time complexity: O(rows*cols)\n",
    "space complexity: O(rows*cols)"
   ]
  },
  {
   "cell_type": "code",
   "execution_count": 4,
   "metadata": {},
   "outputs": [
    {
     "data": {
      "text/plain": [
       "[[1, 4, 7], [2, 5, 8], [3, 6, 9]]"
      ]
     },
     "execution_count": 4,
     "metadata": {},
     "output_type": "execute_result"
    }
   ],
   "source": [
    "def transpose(matrix):\n",
    "    rows=len(matrix)\n",
    "    cols=len(matrix[0])\n",
    "    \n",
    "    #create a new matrix with swapped dimensions\n",
    "    transpose_matrix= [[0]*rows for _ in range(cols)]\n",
    "    \n",
    "    # Iterate through original matrix and swap elements\n",
    "    for i in range (rows):\n",
    "        for j in range(cols):\n",
    "            transpose_matrix[j][i]=matrix[i][j]\n",
    "    \n",
    "    return transpose_matrix\n",
    "    \n",
    "        \n",
    "transpose([[1,2,3],[4,5,6],[7,8,9]])"
   ]
  },
  {
   "attachments": {},
   "cell_type": "markdown",
   "metadata": {},
   "source": [
    "Question 4 Given an integer array nums of 2n integers, group these integers into n pairs (a1, b1), (a2, b2), ..., (an, bn) such that the sum of min(ai, bi) for all i is maximized. Return the maximized sum.\n",
    "\n",
    "Algorithm:\n",
    "1.Sort the array nums in ascending order.\n",
    "2. Initialize a variable max_sum to 0.\n",
    "3. Iterate over nums starting from index 0 with a step size of 2:\n",
    "For each iteration, add the value of nums[i] to max_sum.\n",
    "4. Return the value of max_sum.\n",
    "\n",
    "\n",
    "Time Complexity: O(n log n) due to sorting operation, where n is the size of the input array\n",
    "Space Complexity: O(1)"
   ]
  },
  {
   "cell_type": "code",
   "execution_count": 5,
   "metadata": {},
   "outputs": [
    {
     "data": {
      "text/plain": [
       "4"
      ]
     },
     "execution_count": 5,
     "metadata": {},
     "output_type": "execute_result"
    }
   ],
   "source": [
    "def arrayPairSum(nums):\n",
    "        \n",
    "    #sort the array in ascending order\n",
    "        nums.sort()\n",
    "        max_sum=0\n",
    "    # iterate over the nums with a step size of 2    \n",
    "        for i in range(0,len(nums),2):\n",
    "            max_sum+=nums[i]\n",
    "        return max_sum\n",
    "    \n",
    "    \n",
    "arrayPairSum([1,4,3,2])"
   ]
  },
  {
   "attachments": {},
   "cell_type": "markdown",
   "metadata": {},
   "source": [
    "Question 5 :You have n coins and you want to build a staircase with these coins. The staircase consists of k rows where the ith row has exactly i coins. The last row of the staircase may be incomplete. Given the integer n, return the number of complete rows of the staircase you will build.\n",
    "\n",
    "Algorithm: This problem can be solved using a binary search approach. The main idea is to find the maximum number of complete rows that can be formed using the given number of coins.\n",
    "\n",
    "1.Initialize variables left to 0 and right to n.\n",
    "2.While left is less than or equal to right: Calculate the mid-point as mid = (left + right) // 2. Calculate the total number of coins required to form mid complete rows as total = (mid * (mid + 1)) // 2. If total is equal to n, return mid as the maximum number of complete rows. If total is greater than n, update right = mid - 1 since we need to decrease the number of rows. If total is less than n, update left = mid + 1 since we need to increase the number of rows. After the binary search, return right as the maximum number of complete rows.\n",
    "time complexity- O(n) space complexity-O(1)"
   ]
  },
  {
   "cell_type": "code",
   "execution_count": 6,
   "metadata": {},
   "outputs": [
    {
     "name": "stdout",
     "output_type": "stream",
     "text": [
      "2\n"
     ]
    }
   ],
   "source": [
    "def arrangeCoins(n):\n",
    "    left, right = 0, n\n",
    "\n",
    "    while left <= right:\n",
    "        mid = (left + right) // 2\n",
    "        total = (mid * (mid + 1)) // 2\n",
    "\n",
    "        if total == n:\n",
    "            return mid\n",
    "        elif total > n:\n",
    "            right = mid - 1\n",
    "        else:\n",
    "            left = mid + 1\n",
    "\n",
    "    return right\n",
    "\n",
    "# Example usage\n",
    "n = 5\n",
    "max_complete_rows = arrangeCoins(n)\n",
    "print(max_complete_rows)"
   ]
  },
  {
   "attachments": {},
   "cell_type": "markdown",
   "metadata": {},
   "source": [
    "Question 6 Given an integer array nums sorted in non-decreasing order, return an array of the squares of each number sorted in non-decreasing order.\n",
    "\n",
    "Algorithm:\n",
    "1.Create an empty array result to store the squared values.\n",
    "2.Iterate over each element num in the input array:\n",
    "Square the current element num.\n",
    "Append the squared value to the result array.\n",
    "3.Sort the result array in non-decreasing order.\n",
    "4. Return the result array.\n",
    "\n",
    "\n",
    "time complexity: O(n log n)\n",
    "space complexity: O(n)"
   ]
  },
  {
   "cell_type": "code",
   "execution_count": 7,
   "metadata": {},
   "outputs": [
    {
     "name": "stdout",
     "output_type": "stream",
     "text": [
      "[0, 1, 9, 16, 100]\n"
     ]
    }
   ],
   "source": [
    "def sortedSquares(nums):\n",
    "    result = []\n",
    "\n",
    "    for num in nums:\n",
    "        result.append(num ** 2)\n",
    "\n",
    "    result.sort()\n",
    "\n",
    "    return result\n",
    "\n",
    "# Example usage:\n",
    "nums = [-4, -1, 0, 3, 10]\n",
    "sorted_nums = sortedSquares(nums)\n",
    "print(sorted_nums)"
   ]
  },
  {
   "attachments": {},
   "cell_type": "markdown",
   "metadata": {},
   "source": [
    "Question 7\n",
    "\n",
    "You are given an m x n matrix M initialized with all 0's and an array of operations ops, where ops[i] = [ai, bi] means M[x][y] should be incremented by one for all 0 <= x < ai and 0 <= y < bi. Count and return the number of maximum integers in the matrix after performing all the operations\n",
    "\n",
    "Algorithm:\n",
    "\n",
    "1.Initialize the variables max_rows and max_cols to store the maximum row and column indices affected by the operations. Set both to m and n, respectively.\n",
    "2.Iterate over each operation [ai, bi] in the ops array. Update max_rows as the minimum value between max_rows and ai. Update max_cols as the minimum value between max_cols and bi. 3. Calculate the count of maximum integers in the matrix as max_rows * max_cols.\n",
    "\n",
    "Return the count.\n",
    "time complexity: O(k) space complexity:O(1)"
   ]
  },
  {
   "cell_type": "code",
   "execution_count": 8,
   "metadata": {},
   "outputs": [
    {
     "data": {
      "text/plain": [
       "4"
      ]
     },
     "execution_count": 8,
     "metadata": {},
     "output_type": "execute_result"
    }
   ],
   "source": [
    "from typing import List\n",
    "\n",
    "def maxCount(m: int, n: int, ops: List[List[int]]) -> int:\n",
    "    max_rows = m\n",
    "    max_cols = n\n",
    "    \n",
    "    for op in ops:\n",
    "        max_rows = min(max_rows, op[0])\n",
    "        max_cols = min(max_cols, op[1])\n",
    "    \n",
    "    return max_rows * max_cols\n",
    "maxCount(3,3,[[2,2],[3,3]])"
   ]
  },
  {
   "attachments": {},
   "cell_type": "markdown",
   "metadata": {},
   "source": [
    "Question 8\n",
    "\n",
    "Given the array nums consisting of 2n elements in the form [x1,x2,...,xn,y1,y2,...,yn]. Return the array in the form [x1,y1,x2,y2,...,xn,yn].\n",
    "\n",
    "Algorithm:\n",
    "1.Initialize an empty result array result.\n",
    "2. Iterate over the range from 0 to n.\n",
    "Append nums[i] to the result array.\n",
    "Append nums[i+n] to the result array.\n",
    "3. Return the result array.\n",
    "time complexity: O(n)\n",
    "space complexity:O(n)"
   ]
  },
  {
   "cell_type": "code",
   "execution_count": 9,
   "metadata": {},
   "outputs": [
    {
     "data": {
      "text/plain": [
       "[2, 3, 5, 4, 1, 7]"
      ]
     },
     "execution_count": 9,
     "metadata": {},
     "output_type": "execute_result"
    }
   ],
   "source": [
    "def rearrangeArray(nums):\n",
    "    n = len(nums) // 2\n",
    "    result = []\n",
    "    \n",
    "    for i in range(n):\n",
    "        result.append(nums[i])\n",
    "        result.append(nums[i+n])\n",
    "    \n",
    "    return result\n",
    "rearrangeArray([2,5,1,3,4,7])"
   ]
  }
 ],
 "metadata": {
  "kernelspec": {
   "display_name": "Python 3",
   "language": "python",
   "name": "python3"
  },
  "language_info": {
   "codemirror_mode": {
    "name": "ipython",
    "version": 3
   },
   "file_extension": ".py",
   "mimetype": "text/x-python",
   "name": "python",
   "nbconvert_exporter": "python",
   "pygments_lexer": "ipython3",
   "version": "3.10.4"
  },
  "orig_nbformat": 4
 },
 "nbformat": 4,
 "nbformat_minor": 2
}
