{
 "cells": [
  {
   "cell_type": "markdown",
   "metadata": {},
   "source": [
    "### Q1. <!DOCTYPE html> is it a tag or html? If not, what is it and why do we use it?\n",
    "\n",
    "Ans: <!DOCTYPE html> is not an HTML tag. This is a special string known as a declaration and it tells the browser about what document type to be expected."
   ]
  },
  {
   "cell_type": "markdown",
   "metadata": {},
   "source": [
    "###  Q2 Explain Semantic tags in html? And why do we need it?\n",
    "Ans: Semantic elements have meaningful names which tell about the type of content. For example: nav, header, footer, section etc, Semantic elements makes the code more readable and instruct the browser how to treat the code"
   ]
  },
  {
   "cell_type": "markdown",
   "metadata": {},
   "source": [
    "### Q3 Differentiate between HTML Tags and Elements?\n",
    "Ans: Tags are the starting and ending parts of an html element. They inform the browser how the content is to be displayed. \n",
    "Eg: \n",
    "<main></main> ,\n",
    "<section></section>. \n",
    "But HTML tags such as\n",
    " <img/>\n",
    "  <br/> \n",
    "  has no closing part. Whatever is written inside '<' and '>' is called tags Tags with the content inside them are called HTML elements Eg: <h1>Placement Assignment</h1>"
   ]
  },
  {
   "cell_type": "markdown",
   "metadata": {},
   "source": [
    "### Q6 What are some of the advantages of HTML5 over its previous versions?\n",
    "Ans:\n",
    "\n",
    "Improved accessibility-\n",
    "allows you to write descriptive and semantic code\n",
    "improved storage feature,\n",
    "can design responsive websites\n",
    "It is better in terms of security\n",
    "Games can now be developed on HTML5 using the canvas tag\n",
    "HTML5 Geolocation API allows you to detect the location of the user\n",
    "One of the major advantages of HTML5 is that it has introduced manynew elements with audio and video being the most popular allowing you to add multimedia elements to the site."
   ]
  },
  {
   "cell_type": "markdown",
   "metadata": {},
   "source": [
    "### Q8 What is the difference between figure tag and img tag?\n",
    "Ans: The figure tag is used to semantically organize the content of images, videos, audio, or even charts or tables. whereas img tag is used to add images or set the background in the web page"
   ]
  },
  {
   "cell_type": "markdown",
   "metadata": {},
   "source": [
    "### Q9 What’s the difference between an HTML tag and an attribute and give an example of some global attributes?\n",
    "Tags are starting and ending parts of an HTML element. Tags are enclosed in angle brackets Eg: <nav></nav> Attributes are used to define the character of an HTML element. It is always placed in the opening tag of an element. Attributes specify additional properties to the element <img src=“logo.jpg” alt= “logo”/> Here, src and alt are attributes of <img/> tag Global attributes are attributes that can be used in all the HTML elements Eg: class, id, style, title"
   ]
  }
 ],
 "metadata": {
  "language_info": {
   "name": "python"
  },
  "orig_nbformat": 4
 },
 "nbformat": 4,
 "nbformat_minor": 2
}
